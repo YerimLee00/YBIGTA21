{
  "nbformat": 4,
  "nbformat_minor": 0,
  "metadata": {
    "colab": {
      "name": "0726_ML_HW.ipynb",
      "provenance": [],
      "collapsed_sections": [],
      "include_colab_link": true
    },
    "kernelspec": {
      "name": "python3",
      "display_name": "Python 3"
    },
    "language_info": {
      "name": "python"
    },
    "accelerator": "GPU",
    "gpuClass": "standard"
  },
  "cells": [
    {
      "cell_type": "markdown",
      "metadata": {
        "id": "view-in-github",
        "colab_type": "text"
      },
      "source": [
        "<a href=\"https://colab.research.google.com/github/YerimLee00/YBIGTA21/blob/main/0726_ML_HW.ipynb\" target=\"_parent\"><img src=\"https://colab.research.google.com/assets/colab-badge.svg\" alt=\"Open In Colab\"/></a>"
      ]
    },
    {
      "cell_type": "code",
      "source": [
        "from google.colab import drive\n",
        "drive.mount('/content/drive')"
      ],
      "metadata": {
        "colab": {
          "base_uri": "https://localhost:8080/"
        },
        "id": "e9PpzDjnYtlO",
        "outputId": "880692e6-f079-4c86-b66a-4742372713c1"
      },
      "execution_count": 1,
      "outputs": [
        {
          "output_type": "stream",
          "name": "stdout",
          "text": [
            "Drive already mounted at /content/drive; to attempt to forcibly remount, call drive.mount(\"/content/drive\", force_remount=True).\n"
          ]
        }
      ]
    },
    {
      "cell_type": "code",
      "source": [
        "import os\n",
        "\n",
        "os.chdir('/content/drive/MyDrive/YBIGTA/0726 ML')   # 경로 지정"
      ],
      "metadata": {
        "id": "agIJr6S9Ygms"
      },
      "execution_count": 2,
      "outputs": []
    },
    {
      "cell_type": "code",
      "execution_count": 3,
      "metadata": {
        "id": "1AWIATyIacOL"
      },
      "outputs": [],
      "source": [
        "import pandas as pd\n",
        "from sklearn.ensemble import RandomForestRegressor\n",
        "\n",
        "train = pd.read_csv('movies_train.csv')\n",
        "test = pd.read_csv('movies_test.csv')"
      ]
    },
    {
      "cell_type": "markdown",
      "source": [
        "# 데이터 전처리"
      ],
      "metadata": {
        "id": "6yaoqpCutVLf"
      }
    },
    {
      "cell_type": "code",
      "source": [
        "# 결측치가 많은 데이터 제거\n",
        "train = train.drop(['dir_prev_bfnum'],axis = 1)\n",
        "test = test.drop(['dir_prev_bfnum'],axis = 1)"
      ],
      "metadata": {
        "id": "Yl2kA7fFtP5R"
      },
      "execution_count": 4,
      "outputs": []
    },
    {
      "cell_type": "code",
      "source": [
        "# 감독명 : 너무 다양해서 제거\n",
        "train = train.drop(['director'],axis = 1)\n",
        "test = test.drop(['director'],axis = 1)"
      ],
      "metadata": {
        "id": "lIk3wrTctQ9v"
      },
      "execution_count": 5,
      "outputs": []
    },
    {
      "cell_type": "code",
      "source": [
        "# 제목 : 의미가 없기 때문에 제거\n",
        "train = train.drop(['title'],axis= 1)\n",
        "test = test.drop(['title'],axis= 1)"
      ],
      "metadata": {
        "id": "ePWuo17btR1M"
      },
      "execution_count": 6,
      "outputs": []
    },
    {
      "cell_type": "code",
      "source": [
        "# 상위 5개의 배급사를 제외하고 '기타'로 처리\n",
        "distributor_list = train.distributor.value_counts()[:5]\n",
        "def func(distributor):\n",
        "    if distributor in distributor_list:\n",
        "        return distributor\n",
        "    else:\n",
        "        return '기타'\n",
        "\n",
        "train['distributor'] = train['distributor'].apply(lambda x : func(x))\n",
        "test['distributor'] = test['distributor'].apply(lambda x : func(x))"
      ],
      "metadata": {
        "id": "gJLgQnsftUi3"
      },
      "execution_count": 7,
      "outputs": []
    },
    {
      "cell_type": "code",
      "source": [
        "# 개봉일을 바탕으로 년,월 변수 생성\n",
        "train['년'] = train['release_time'].apply(lambda x: int(x[:4]))\n",
        "train['월'] = train['release_time'].apply(lambda x: int(x[5:7]))\n",
        "train =  train.drop(['release_time'],axis = 1)\n",
        "\n",
        "test['년'] = test['release_time'].apply(lambda x: int(x[:4]))\n",
        "test['월'] = test['release_time'].apply(lambda x: int(x[5:7]))\n",
        "test =  test.drop(['release_time'],axis = 1)"
      ],
      "metadata": {
        "id": "go0393kDtapB"
      },
      "execution_count": 8,
      "outputs": []
    },
    {
      "cell_type": "code",
      "source": [
        "# 원핫 인코딩\n",
        "train = pd.get_dummies(train)\n",
        "test = pd.get_dummies(test)"
      ],
      "metadata": {
        "id": "8OU0rcEktbvc"
      },
      "execution_count": 9,
      "outputs": []
    },
    {
      "cell_type": "markdown",
      "source": [
        "# 모델 생성 및 예측 (과제 부분)"
      ],
      "metadata": {
        "id": "QKlW-N1wtfcX"
      }
    },
    {
      "cell_type": "code",
      "source": [
        "train.head()"
      ],
      "metadata": {
        "colab": {
          "base_uri": "https://localhost:8080/",
          "height": 334
        },
        "id": "Oo_vYLRjs9_m",
        "outputId": "64d9e561-fd5e-4998-ebbf-63a606d79b05"
      },
      "execution_count": 10,
      "outputs": [
        {
          "output_type": "execute_result",
          "data": {
            "text/plain": [
              "   time  dir_prev_num  num_staff  num_actor  box_off_num     년   월  \\\n",
              "0    96             0         91          2        23398  2012  11   \n",
              "1   130             2        387          3      7072501  2015  11   \n",
              "2   123             4        343          4      6959083  2013   6   \n",
              "3   101             2         20          6       217866  2012   7   \n",
              "4   108             1        251          2       483387  2010  11   \n",
              "\n",
              "   distributor_(주)NEW  distributor_(주)마운틴픽쳐스  distributor_(주)쇼박스  ...  \\\n",
              "0                   0                      0                   0  ...   \n",
              "1                   0                      0                   1  ...   \n",
              "2                   0                      0                   1  ...   \n",
              "3                   1                      0                   0  ...   \n",
              "4                   0                      0                   0  ...   \n",
              "\n",
              "   genre_뮤지컬  genre_미스터리  genre_서스펜스  genre_애니메이션  genre_액션  genre_코미디  \\\n",
              "0          0           0           0            0         1          0   \n",
              "1          0           0           0            0         0          0   \n",
              "2          0           0           0            0         1          0   \n",
              "3          0           0           0            0         0          1   \n",
              "4          0           0           0            0         0          1   \n",
              "\n",
              "   screening_rat_12세 관람가  screening_rat_15세 관람가  screening_rat_전체 관람가  \\\n",
              "0                      0                      0                     0   \n",
              "1                      0                      0                     0   \n",
              "2                      0                      1                     0   \n",
              "3                      0                      0                     1   \n",
              "4                      0                      1                     0   \n",
              "\n",
              "   screening_rat_청소년 관람불가  \n",
              "0                       1  \n",
              "1                       1  \n",
              "2                       0  \n",
              "3                       0  \n",
              "4                       0  \n",
              "\n",
              "[5 rows x 29 columns]"
            ],
            "text/html": [
              "\n",
              "  <div id=\"df-2383aa2c-2c03-47cf-8698-2dbcc22d2d18\">\n",
              "    <div class=\"colab-df-container\">\n",
              "      <div>\n",
              "<style scoped>\n",
              "    .dataframe tbody tr th:only-of-type {\n",
              "        vertical-align: middle;\n",
              "    }\n",
              "\n",
              "    .dataframe tbody tr th {\n",
              "        vertical-align: top;\n",
              "    }\n",
              "\n",
              "    .dataframe thead th {\n",
              "        text-align: right;\n",
              "    }\n",
              "</style>\n",
              "<table border=\"1\" class=\"dataframe\">\n",
              "  <thead>\n",
              "    <tr style=\"text-align: right;\">\n",
              "      <th></th>\n",
              "      <th>time</th>\n",
              "      <th>dir_prev_num</th>\n",
              "      <th>num_staff</th>\n",
              "      <th>num_actor</th>\n",
              "      <th>box_off_num</th>\n",
              "      <th>년</th>\n",
              "      <th>월</th>\n",
              "      <th>distributor_(주)NEW</th>\n",
              "      <th>distributor_(주)마운틴픽쳐스</th>\n",
              "      <th>distributor_(주)쇼박스</th>\n",
              "      <th>...</th>\n",
              "      <th>genre_뮤지컬</th>\n",
              "      <th>genre_미스터리</th>\n",
              "      <th>genre_서스펜스</th>\n",
              "      <th>genre_애니메이션</th>\n",
              "      <th>genre_액션</th>\n",
              "      <th>genre_코미디</th>\n",
              "      <th>screening_rat_12세 관람가</th>\n",
              "      <th>screening_rat_15세 관람가</th>\n",
              "      <th>screening_rat_전체 관람가</th>\n",
              "      <th>screening_rat_청소년 관람불가</th>\n",
              "    </tr>\n",
              "  </thead>\n",
              "  <tbody>\n",
              "    <tr>\n",
              "      <th>0</th>\n",
              "      <td>96</td>\n",
              "      <td>0</td>\n",
              "      <td>91</td>\n",
              "      <td>2</td>\n",
              "      <td>23398</td>\n",
              "      <td>2012</td>\n",
              "      <td>11</td>\n",
              "      <td>0</td>\n",
              "      <td>0</td>\n",
              "      <td>0</td>\n",
              "      <td>...</td>\n",
              "      <td>0</td>\n",
              "      <td>0</td>\n",
              "      <td>0</td>\n",
              "      <td>0</td>\n",
              "      <td>1</td>\n",
              "      <td>0</td>\n",
              "      <td>0</td>\n",
              "      <td>0</td>\n",
              "      <td>0</td>\n",
              "      <td>1</td>\n",
              "    </tr>\n",
              "    <tr>\n",
              "      <th>1</th>\n",
              "      <td>130</td>\n",
              "      <td>2</td>\n",
              "      <td>387</td>\n",
              "      <td>3</td>\n",
              "      <td>7072501</td>\n",
              "      <td>2015</td>\n",
              "      <td>11</td>\n",
              "      <td>0</td>\n",
              "      <td>0</td>\n",
              "      <td>1</td>\n",
              "      <td>...</td>\n",
              "      <td>0</td>\n",
              "      <td>0</td>\n",
              "      <td>0</td>\n",
              "      <td>0</td>\n",
              "      <td>0</td>\n",
              "      <td>0</td>\n",
              "      <td>0</td>\n",
              "      <td>0</td>\n",
              "      <td>0</td>\n",
              "      <td>1</td>\n",
              "    </tr>\n",
              "    <tr>\n",
              "      <th>2</th>\n",
              "      <td>123</td>\n",
              "      <td>4</td>\n",
              "      <td>343</td>\n",
              "      <td>4</td>\n",
              "      <td>6959083</td>\n",
              "      <td>2013</td>\n",
              "      <td>6</td>\n",
              "      <td>0</td>\n",
              "      <td>0</td>\n",
              "      <td>1</td>\n",
              "      <td>...</td>\n",
              "      <td>0</td>\n",
              "      <td>0</td>\n",
              "      <td>0</td>\n",
              "      <td>0</td>\n",
              "      <td>1</td>\n",
              "      <td>0</td>\n",
              "      <td>0</td>\n",
              "      <td>1</td>\n",
              "      <td>0</td>\n",
              "      <td>0</td>\n",
              "    </tr>\n",
              "    <tr>\n",
              "      <th>3</th>\n",
              "      <td>101</td>\n",
              "      <td>2</td>\n",
              "      <td>20</td>\n",
              "      <td>6</td>\n",
              "      <td>217866</td>\n",
              "      <td>2012</td>\n",
              "      <td>7</td>\n",
              "      <td>1</td>\n",
              "      <td>0</td>\n",
              "      <td>0</td>\n",
              "      <td>...</td>\n",
              "      <td>0</td>\n",
              "      <td>0</td>\n",
              "      <td>0</td>\n",
              "      <td>0</td>\n",
              "      <td>0</td>\n",
              "      <td>1</td>\n",
              "      <td>0</td>\n",
              "      <td>0</td>\n",
              "      <td>1</td>\n",
              "      <td>0</td>\n",
              "    </tr>\n",
              "    <tr>\n",
              "      <th>4</th>\n",
              "      <td>108</td>\n",
              "      <td>1</td>\n",
              "      <td>251</td>\n",
              "      <td>2</td>\n",
              "      <td>483387</td>\n",
              "      <td>2010</td>\n",
              "      <td>11</td>\n",
              "      <td>0</td>\n",
              "      <td>0</td>\n",
              "      <td>0</td>\n",
              "      <td>...</td>\n",
              "      <td>0</td>\n",
              "      <td>0</td>\n",
              "      <td>0</td>\n",
              "      <td>0</td>\n",
              "      <td>0</td>\n",
              "      <td>1</td>\n",
              "      <td>0</td>\n",
              "      <td>1</td>\n",
              "      <td>0</td>\n",
              "      <td>0</td>\n",
              "    </tr>\n",
              "  </tbody>\n",
              "</table>\n",
              "<p>5 rows × 29 columns</p>\n",
              "</div>\n",
              "      <button class=\"colab-df-convert\" onclick=\"convertToInteractive('df-2383aa2c-2c03-47cf-8698-2dbcc22d2d18')\"\n",
              "              title=\"Convert this dataframe to an interactive table.\"\n",
              "              style=\"display:none;\">\n",
              "        \n",
              "  <svg xmlns=\"http://www.w3.org/2000/svg\" height=\"24px\"viewBox=\"0 0 24 24\"\n",
              "       width=\"24px\">\n",
              "    <path d=\"M0 0h24v24H0V0z\" fill=\"none\"/>\n",
              "    <path d=\"M18.56 5.44l.94 2.06.94-2.06 2.06-.94-2.06-.94-.94-2.06-.94 2.06-2.06.94zm-11 1L8.5 8.5l.94-2.06 2.06-.94-2.06-.94L8.5 2.5l-.94 2.06-2.06.94zm10 10l.94 2.06.94-2.06 2.06-.94-2.06-.94-.94-2.06-.94 2.06-2.06.94z\"/><path d=\"M17.41 7.96l-1.37-1.37c-.4-.4-.92-.59-1.43-.59-.52 0-1.04.2-1.43.59L10.3 9.45l-7.72 7.72c-.78.78-.78 2.05 0 2.83L4 21.41c.39.39.9.59 1.41.59.51 0 1.02-.2 1.41-.59l7.78-7.78 2.81-2.81c.8-.78.8-2.07 0-2.86zM5.41 20L4 18.59l7.72-7.72 1.47 1.35L5.41 20z\"/>\n",
              "  </svg>\n",
              "      </button>\n",
              "      \n",
              "  <style>\n",
              "    .colab-df-container {\n",
              "      display:flex;\n",
              "      flex-wrap:wrap;\n",
              "      gap: 12px;\n",
              "    }\n",
              "\n",
              "    .colab-df-convert {\n",
              "      background-color: #E8F0FE;\n",
              "      border: none;\n",
              "      border-radius: 50%;\n",
              "      cursor: pointer;\n",
              "      display: none;\n",
              "      fill: #1967D2;\n",
              "      height: 32px;\n",
              "      padding: 0 0 0 0;\n",
              "      width: 32px;\n",
              "    }\n",
              "\n",
              "    .colab-df-convert:hover {\n",
              "      background-color: #E2EBFA;\n",
              "      box-shadow: 0px 1px 2px rgba(60, 64, 67, 0.3), 0px 1px 3px 1px rgba(60, 64, 67, 0.15);\n",
              "      fill: #174EA6;\n",
              "    }\n",
              "\n",
              "    [theme=dark] .colab-df-convert {\n",
              "      background-color: #3B4455;\n",
              "      fill: #D2E3FC;\n",
              "    }\n",
              "\n",
              "    [theme=dark] .colab-df-convert:hover {\n",
              "      background-color: #434B5C;\n",
              "      box-shadow: 0px 1px 3px 1px rgba(0, 0, 0, 0.15);\n",
              "      filter: drop-shadow(0px 1px 2px rgba(0, 0, 0, 0.3));\n",
              "      fill: #FFFFFF;\n",
              "    }\n",
              "  </style>\n",
              "\n",
              "      <script>\n",
              "        const buttonEl =\n",
              "          document.querySelector('#df-2383aa2c-2c03-47cf-8698-2dbcc22d2d18 button.colab-df-convert');\n",
              "        buttonEl.style.display =\n",
              "          google.colab.kernel.accessAllowed ? 'block' : 'none';\n",
              "\n",
              "        async function convertToInteractive(key) {\n",
              "          const element = document.querySelector('#df-2383aa2c-2c03-47cf-8698-2dbcc22d2d18');\n",
              "          const dataTable =\n",
              "            await google.colab.kernel.invokeFunction('convertToInteractive',\n",
              "                                                     [key], {});\n",
              "          if (!dataTable) return;\n",
              "\n",
              "          const docLinkHtml = 'Like what you see? Visit the ' +\n",
              "            '<a target=\"_blank\" href=https://colab.research.google.com/notebooks/data_table.ipynb>data table notebook</a>'\n",
              "            + ' to learn more about interactive tables.';\n",
              "          element.innerHTML = '';\n",
              "          dataTable['output_type'] = 'display_data';\n",
              "          await google.colab.output.renderOutput(dataTable, element);\n",
              "          const docLink = document.createElement('div');\n",
              "          docLink.innerHTML = docLinkHtml;\n",
              "          element.appendChild(docLink);\n",
              "        }\n",
              "      </script>\n",
              "    </div>\n",
              "  </div>\n",
              "  "
            ]
          },
          "metadata": {},
          "execution_count": 10
        }
      ]
    },
    {
      "cell_type": "code",
      "source": [
        "train_x = train.drop(['box_off_num'],axis= 1)\n",
        "train_y = train['box_off_num']"
      ],
      "metadata": {
        "id": "NiON_n6Xth_4"
      },
      "execution_count": 11,
      "outputs": []
    },
    {
      "cell_type": "code",
      "source": [
        "# 모델 성능 비교를 위한 Training Data / Validation Data 분리\n",
        "\n",
        "from sklearn.model_selection import train_test_split\n",
        "\n",
        "X_train, X_val, y_train, y_val = train_test_split(train_x, train_y, test_size=0.2, random_state=21)\n",
        "\n",
        "print(f'Training Dataset Shape : {X_train.shape}, {y_train.shape}')\n",
        "print(f'Validation Dataset Shape : {X_val.shape}, {y_val.shape}')"
      ],
      "metadata": {
        "colab": {
          "base_uri": "https://localhost:8080/"
        },
        "id": "ylbBUckpcM2E",
        "outputId": "c0f325e8-4379-4134-fd1b-1892192bc994"
      },
      "execution_count": 12,
      "outputs": [
        {
          "output_type": "stream",
          "name": "stdout",
          "text": [
            "Training Dataset Shape : (480, 28), (480,)\n",
            "Validation Dataset Shape : (120, 28), (120,)\n"
          ]
        }
      ]
    },
    {
      "cell_type": "code",
      "source": [
        "# Model 구축\n",
        "\n",
        "from sklearn.linear_model import LogisticRegression\n",
        "from sklearn.tree import DecisionTreeClassifier\n",
        "from sklearn.svm import SVC\n",
        "from sklearn.ensemble import VotingClassifier\n",
        "from sklearn.ensemble import BaggingClassifier\n",
        "from sklearn.ensemble import RandomForestClassifier\n",
        "from sklearn.ensemble import ExtraTreesClassifier\n",
        "from sklearn.ensemble import AdaBoostClassifier\n",
        "from xgboost import XGBClassifier\n",
        "from lightgbm import LGBMClassifier\n",
        "\n",
        "log_clf = LogisticRegression(random_state=21)     # LogisticRegression\n",
        "dt_clf = DecisionTreeClassifier(random_state=21, max_depth = None)     # DecisionTreeClassifier\n",
        "svm_clf = SVC(probability = True, random_state=21)     # SVM Classifier\n",
        "voting_clf = VotingClassifier(estimators=[('lr', log_clf), ('dt', dt_clf), ('svm', svm_clf)], voting='soft')     # VotingClassifier(위 3개의 Classifier 결합), Soft Voting\n",
        "\n",
        "bag_clf = BaggingClassifier(dt_clf,     # base_estimator : DecisionTreeClassifier\n",
        "                            bootstrap=True,     # bootstrap = True : Bagging\n",
        "                            n_jobs=-1)     # n_jobs = - 1 : using all processors\n",
        "pas_clf = BaggingClassifier(dt_clf,\n",
        "                            bootstrap=False,     # bootstrap = False : Pasting\n",
        "                            n_jobs=-1)\n",
        "\n",
        "rf_clf = RandomForestClassifier(random_state=21, n_jobs=-1)   # RandomForestClassifier\n",
        "\n",
        "et_clf = ExtraTreesClassifier(random_state=21, n_jobs=-1)   # ExtraTreesClassifier\n",
        "\n",
        "ada_clf = AdaBoostClassifier(base_estimator = DecisionTreeClassifier(random_state=21, max_depth=1), learning_rate=0.01, random_state=123)   #AdaBoostClassifier\n",
        "\n",
        "xgb_clf = XGBClassifier(random_state=21, eval_metric='rmse')   # XGBClassifier"
      ],
      "metadata": {
        "id": "mSS_Imr_tiB8"
      },
      "execution_count": 13,
      "outputs": []
    },
    {
      "cell_type": "code",
      "source": [
        "from sklearn.metrics import mean_squared_error\n",
        "import warnings\n",
        "warnings.filterwarnings('ignore')\n",
        "\n",
        "models = [log_clf, dt_clf, svm_clf, voting_clf, bag_clf, pas_clf, rf_clf, et_clf, ada_clf, xgb_clf]\n",
        "results = []\n",
        "\n",
        "for model in models:\n",
        "  model.fit(X_train, y_train)\n",
        "  predict = model.predict(X_val)\n",
        "  model, loss = model.__class__.__name__, mean_squared_error(predict, y_val, squared=False)   # Metric : RMSE\n",
        "  results.append([model, loss])\n",
        "  print(f'{model} Completed')"
      ],
      "metadata": {
        "id": "IPCxBt-Wtpzw",
        "colab": {
          "base_uri": "https://localhost:8080/"
        },
        "outputId": "06c9b1a5-b182-4d64-d817-646b77b6afa9"
      },
      "execution_count": 14,
      "outputs": [
        {
          "output_type": "stream",
          "name": "stdout",
          "text": [
            "LogisticRegression Completed\n",
            "DecisionTreeClassifier Completed\n",
            "SVC Completed\n",
            "VotingClassifier Completed\n",
            "BaggingClassifier Completed\n",
            "BaggingClassifier Completed\n",
            "RandomForestClassifier Completed\n",
            "ExtraTreesClassifier Completed\n",
            "AdaBoostClassifier Completed\n",
            "XGBClassifier Completed\n"
          ]
        }
      ]
    },
    {
      "cell_type": "code",
      "source": [
        "results.sort(key = lambda x:x[1])\n",
        "\n",
        "for result in results:\n",
        "  print(result)"
      ],
      "metadata": {
        "colab": {
          "base_uri": "https://localhost:8080/"
        },
        "id": "aLOUUESTxpD-",
        "outputId": "f65ce33e-0ec4-4c3d-9ea1-006d602e7d1b"
      },
      "execution_count": 15,
      "outputs": [
        {
          "output_type": "stream",
          "name": "stdout",
          "text": [
            "['BaggingClassifier', 1239199.1453175717]\n",
            "['BaggingClassifier', 1294651.0237108814]\n",
            "['SVC', 1419416.8190360523]\n",
            "['XGBClassifier', 1438706.0725623795]\n",
            "['AdaBoostClassifier', 1682002.318677789]\n",
            "['RandomForestClassifier', 1736510.3939983365]\n",
            "['ExtraTreesClassifier', 1879987.2081466406]\n",
            "['LogisticRegression', 2026032.8916303923]\n",
            "['DecisionTreeClassifier', 2126618.476104445]\n",
            "['VotingClassifier', 2126618.476104445]\n"
          ]
        }
      ]
    },
    {
      "cell_type": "code",
      "source": [
        "# XGBClassfier Tuning\n",
        "\n",
        "from itertools import product\n",
        "\n",
        "result = []\n",
        "\n",
        "max_depth = [3, 6, 9]     # max_depth는 값을 3, 6, 9로 바꿔보면서,\n",
        "min_child_weight = [1, 3, 5]     # min_child_weight는 값을 1, 3, 5로 바꿔보면서,\n",
        "learning_rate = [0.001, 0.01, 0.1]   # learning_rate는 값을 0.001, 0.01, 0.1로 바꿔보면서 최적의 하이퍼파라미터 찾기\n",
        "lst = list(product(*[max_depth, min_child_weight, learning_rate]))     # 가능한 모든 조합을 리스트로 저장\n",
        "\n",
        "for max_depth, min_child_weight, learning_rate in lst:\n",
        "  xgb_clf_temp = XGBClassifier(random_state=21, eval_metric='rmse', learning_rate=learning_rate,\n",
        "                               max_depth=max_depth, min_child_weight=min_child_weight)\n",
        "  xgb_clf_temp.fit(X_train, y_train)\n",
        "  predict = xgb_clf_temp.predict(X_val)\n",
        "  rmse = mean_squared_error(predict, y_val, squared=False)\n",
        "  print(\"max_depth :\", max_depth)\n",
        "  print(\"min_child_weight :\", min_child_weight)\n",
        "  print(\"learning_rate :\", learning_rate)\n",
        "  print('RMSE :', rmse)   # 성능 평가\n",
        "  result.append([max_depth, min_child_weight, learning_rate, rmse])\n",
        "  print()"
      ],
      "metadata": {
        "colab": {
          "base_uri": "https://localhost:8080/"
        },
        "id": "THdlX_f0t3jT",
        "outputId": "1255beaa-be98-43c8-9129-5423fd57161d"
      },
      "execution_count": 16,
      "outputs": [
        {
          "output_type": "stream",
          "name": "stdout",
          "text": [
            "max_depth : 3\n",
            "min_child_weight : 1\n",
            "learning_rate : 0.001\n",
            "RMSE : 1420329.26419316\n",
            "\n",
            "max_depth : 3\n",
            "min_child_weight : 1\n",
            "learning_rate : 0.01\n",
            "RMSE : 1419584.3369790416\n",
            "\n",
            "max_depth : 3\n",
            "min_child_weight : 1\n",
            "learning_rate : 0.1\n",
            "RMSE : 1438706.0725623795\n",
            "\n",
            "max_depth : 3\n",
            "min_child_weight : 3\n",
            "learning_rate : 0.001\n",
            "RMSE : 1421186.4612451193\n",
            "\n",
            "max_depth : 3\n",
            "min_child_weight : 3\n",
            "learning_rate : 0.01\n",
            "RMSE : 1421186.4612451193\n",
            "\n",
            "max_depth : 3\n",
            "min_child_weight : 3\n",
            "learning_rate : 0.1\n",
            "RMSE : 1421186.4612451193\n",
            "\n",
            "max_depth : 3\n",
            "min_child_weight : 5\n",
            "learning_rate : 0.001\n",
            "RMSE : 1421186.4612451193\n",
            "\n",
            "max_depth : 3\n",
            "min_child_weight : 5\n",
            "learning_rate : 0.01\n",
            "RMSE : 1421186.4612451193\n",
            "\n",
            "max_depth : 3\n",
            "min_child_weight : 5\n",
            "learning_rate : 0.1\n",
            "RMSE : 1421186.4612451193\n",
            "\n",
            "max_depth : 6\n",
            "min_child_weight : 1\n",
            "learning_rate : 0.001\n",
            "RMSE : 1420329.26419316\n",
            "\n",
            "max_depth : 6\n",
            "min_child_weight : 1\n",
            "learning_rate : 0.01\n",
            "RMSE : 1419584.3369790416\n",
            "\n",
            "max_depth : 6\n",
            "min_child_weight : 1\n",
            "learning_rate : 0.1\n",
            "RMSE : 1438706.0725623795\n",
            "\n",
            "max_depth : 6\n",
            "min_child_weight : 3\n",
            "learning_rate : 0.001\n",
            "RMSE : 1421186.4612451193\n",
            "\n",
            "max_depth : 6\n",
            "min_child_weight : 3\n",
            "learning_rate : 0.01\n",
            "RMSE : 1421186.4612451193\n",
            "\n",
            "max_depth : 6\n",
            "min_child_weight : 3\n",
            "learning_rate : 0.1\n",
            "RMSE : 1421186.4612451193\n",
            "\n",
            "max_depth : 6\n",
            "min_child_weight : 5\n",
            "learning_rate : 0.001\n",
            "RMSE : 1421186.4612451193\n",
            "\n",
            "max_depth : 6\n",
            "min_child_weight : 5\n",
            "learning_rate : 0.01\n",
            "RMSE : 1421186.4612451193\n",
            "\n",
            "max_depth : 6\n",
            "min_child_weight : 5\n",
            "learning_rate : 0.1\n",
            "RMSE : 1421186.4612451193\n",
            "\n",
            "max_depth : 9\n",
            "min_child_weight : 1\n",
            "learning_rate : 0.001\n",
            "RMSE : 1420329.26419316\n",
            "\n",
            "max_depth : 9\n",
            "min_child_weight : 1\n",
            "learning_rate : 0.01\n",
            "RMSE : 1419584.3369790416\n",
            "\n",
            "max_depth : 9\n",
            "min_child_weight : 1\n",
            "learning_rate : 0.1\n",
            "RMSE : 1438706.0725623795\n",
            "\n",
            "max_depth : 9\n",
            "min_child_weight : 3\n",
            "learning_rate : 0.001\n",
            "RMSE : 1421186.4612451193\n",
            "\n",
            "max_depth : 9\n",
            "min_child_weight : 3\n",
            "learning_rate : 0.01\n",
            "RMSE : 1421186.4612451193\n",
            "\n",
            "max_depth : 9\n",
            "min_child_weight : 3\n",
            "learning_rate : 0.1\n",
            "RMSE : 1421186.4612451193\n",
            "\n",
            "max_depth : 9\n",
            "min_child_weight : 5\n",
            "learning_rate : 0.001\n",
            "RMSE : 1421186.4612451193\n",
            "\n",
            "max_depth : 9\n",
            "min_child_weight : 5\n",
            "learning_rate : 0.01\n",
            "RMSE : 1421186.4612451193\n",
            "\n",
            "max_depth : 9\n",
            "min_child_weight : 5\n",
            "learning_rate : 0.1\n",
            "RMSE : 1421186.4612451193\n",
            "\n"
          ]
        }
      ]
    },
    {
      "cell_type": "code",
      "source": [
        "result.sort(key = lambda x:x[3])\n",
        "\n",
        "for result in result:\n",
        "  print(result)   # RMSE가 가장 낮은 parameter로 모델 구축"
      ],
      "metadata": {
        "colab": {
          "base_uri": "https://localhost:8080/"
        },
        "id": "OWjfx5GayUAf",
        "outputId": "6a96a5a9-60cb-4e0d-93fa-291ee4aad60a"
      },
      "execution_count": 21,
      "outputs": [
        {
          "output_type": "stream",
          "name": "stdout",
          "text": [
            "[3, 1, 0.01, 1419584.3369790416]\n",
            "[6, 1, 0.01, 1419584.3369790416]\n",
            "[9, 1, 0.01, 1419584.3369790416]\n",
            "[3, 1, 0.001, 1420329.26419316]\n",
            "[6, 1, 0.001, 1420329.26419316]\n",
            "[9, 1, 0.001, 1420329.26419316]\n",
            "[3, 3, 0.001, 1421186.4612451193]\n",
            "[3, 3, 0.01, 1421186.4612451193]\n",
            "[3, 3, 0.1, 1421186.4612451193]\n",
            "[3, 5, 0.001, 1421186.4612451193]\n",
            "[3, 5, 0.01, 1421186.4612451193]\n",
            "[3, 5, 0.1, 1421186.4612451193]\n",
            "[6, 3, 0.001, 1421186.4612451193]\n",
            "[6, 3, 0.01, 1421186.4612451193]\n",
            "[6, 3, 0.1, 1421186.4612451193]\n",
            "[6, 5, 0.001, 1421186.4612451193]\n",
            "[6, 5, 0.01, 1421186.4612451193]\n",
            "[6, 5, 0.1, 1421186.4612451193]\n",
            "[9, 3, 0.001, 1421186.4612451193]\n",
            "[9, 3, 0.01, 1421186.4612451193]\n",
            "[9, 3, 0.1, 1421186.4612451193]\n",
            "[9, 5, 0.001, 1421186.4612451193]\n",
            "[9, 5, 0.01, 1421186.4612451193]\n",
            "[9, 5, 0.1, 1421186.4612451193]\n",
            "[3, 1, 0.1, 1438706.0725623795]\n",
            "[6, 1, 0.1, 1438706.0725623795]\n",
            "[9, 1, 0.1, 1438706.0725623795]\n"
          ]
        }
      ]
    },
    {
      "cell_type": "markdown",
      "source": [
        "# 제출"
      ],
      "metadata": {
        "id": "wUS7MUcctquK"
      }
    },
    {
      "cell_type": "code",
      "source": [
        "submission = pd.read_csv('submission.csv')\n",
        "submission"
      ],
      "metadata": {
        "colab": {
          "base_uri": "https://localhost:8080/",
          "height": 424
        },
        "id": "YRoaRvpotuVy",
        "outputId": "e4d65511-f1fc-4bb2-8ebe-bfe2f4f9674c"
      },
      "execution_count": 22,
      "outputs": [
        {
          "output_type": "execute_result",
          "data": {
            "text/plain": [
              "               title  box_off_num\n",
              "0             용서는 없다            0\n",
              "1        아빠가 여자를 좋아해            0\n",
              "2                하모니            0\n",
              "3                의형제            0\n",
              "4              평행 이론            0\n",
              "..               ...          ...\n",
              "238        해에게서 소년에게            0\n",
              "239           울보 권투부            0\n",
              "240             어떤살인            0\n",
              "241        말하지 못한 비밀            0\n",
              "242  조선안방 스캔들-칠거지악 2            0\n",
              "\n",
              "[243 rows x 2 columns]"
            ],
            "text/html": [
              "\n",
              "  <div id=\"df-45f25fb9-c575-428a-97a0-3524861b057f\">\n",
              "    <div class=\"colab-df-container\">\n",
              "      <div>\n",
              "<style scoped>\n",
              "    .dataframe tbody tr th:only-of-type {\n",
              "        vertical-align: middle;\n",
              "    }\n",
              "\n",
              "    .dataframe tbody tr th {\n",
              "        vertical-align: top;\n",
              "    }\n",
              "\n",
              "    .dataframe thead th {\n",
              "        text-align: right;\n",
              "    }\n",
              "</style>\n",
              "<table border=\"1\" class=\"dataframe\">\n",
              "  <thead>\n",
              "    <tr style=\"text-align: right;\">\n",
              "      <th></th>\n",
              "      <th>title</th>\n",
              "      <th>box_off_num</th>\n",
              "    </tr>\n",
              "  </thead>\n",
              "  <tbody>\n",
              "    <tr>\n",
              "      <th>0</th>\n",
              "      <td>용서는 없다</td>\n",
              "      <td>0</td>\n",
              "    </tr>\n",
              "    <tr>\n",
              "      <th>1</th>\n",
              "      <td>아빠가 여자를 좋아해</td>\n",
              "      <td>0</td>\n",
              "    </tr>\n",
              "    <tr>\n",
              "      <th>2</th>\n",
              "      <td>하모니</td>\n",
              "      <td>0</td>\n",
              "    </tr>\n",
              "    <tr>\n",
              "      <th>3</th>\n",
              "      <td>의형제</td>\n",
              "      <td>0</td>\n",
              "    </tr>\n",
              "    <tr>\n",
              "      <th>4</th>\n",
              "      <td>평행 이론</td>\n",
              "      <td>0</td>\n",
              "    </tr>\n",
              "    <tr>\n",
              "      <th>...</th>\n",
              "      <td>...</td>\n",
              "      <td>...</td>\n",
              "    </tr>\n",
              "    <tr>\n",
              "      <th>238</th>\n",
              "      <td>해에게서 소년에게</td>\n",
              "      <td>0</td>\n",
              "    </tr>\n",
              "    <tr>\n",
              "      <th>239</th>\n",
              "      <td>울보 권투부</td>\n",
              "      <td>0</td>\n",
              "    </tr>\n",
              "    <tr>\n",
              "      <th>240</th>\n",
              "      <td>어떤살인</td>\n",
              "      <td>0</td>\n",
              "    </tr>\n",
              "    <tr>\n",
              "      <th>241</th>\n",
              "      <td>말하지 못한 비밀</td>\n",
              "      <td>0</td>\n",
              "    </tr>\n",
              "    <tr>\n",
              "      <th>242</th>\n",
              "      <td>조선안방 스캔들-칠거지악 2</td>\n",
              "      <td>0</td>\n",
              "    </tr>\n",
              "  </tbody>\n",
              "</table>\n",
              "<p>243 rows × 2 columns</p>\n",
              "</div>\n",
              "      <button class=\"colab-df-convert\" onclick=\"convertToInteractive('df-45f25fb9-c575-428a-97a0-3524861b057f')\"\n",
              "              title=\"Convert this dataframe to an interactive table.\"\n",
              "              style=\"display:none;\">\n",
              "        \n",
              "  <svg xmlns=\"http://www.w3.org/2000/svg\" height=\"24px\"viewBox=\"0 0 24 24\"\n",
              "       width=\"24px\">\n",
              "    <path d=\"M0 0h24v24H0V0z\" fill=\"none\"/>\n",
              "    <path d=\"M18.56 5.44l.94 2.06.94-2.06 2.06-.94-2.06-.94-.94-2.06-.94 2.06-2.06.94zm-11 1L8.5 8.5l.94-2.06 2.06-.94-2.06-.94L8.5 2.5l-.94 2.06-2.06.94zm10 10l.94 2.06.94-2.06 2.06-.94-2.06-.94-.94-2.06-.94 2.06-2.06.94z\"/><path d=\"M17.41 7.96l-1.37-1.37c-.4-.4-.92-.59-1.43-.59-.52 0-1.04.2-1.43.59L10.3 9.45l-7.72 7.72c-.78.78-.78 2.05 0 2.83L4 21.41c.39.39.9.59 1.41.59.51 0 1.02-.2 1.41-.59l7.78-7.78 2.81-2.81c.8-.78.8-2.07 0-2.86zM5.41 20L4 18.59l7.72-7.72 1.47 1.35L5.41 20z\"/>\n",
              "  </svg>\n",
              "      </button>\n",
              "      \n",
              "  <style>\n",
              "    .colab-df-container {\n",
              "      display:flex;\n",
              "      flex-wrap:wrap;\n",
              "      gap: 12px;\n",
              "    }\n",
              "\n",
              "    .colab-df-convert {\n",
              "      background-color: #E8F0FE;\n",
              "      border: none;\n",
              "      border-radius: 50%;\n",
              "      cursor: pointer;\n",
              "      display: none;\n",
              "      fill: #1967D2;\n",
              "      height: 32px;\n",
              "      padding: 0 0 0 0;\n",
              "      width: 32px;\n",
              "    }\n",
              "\n",
              "    .colab-df-convert:hover {\n",
              "      background-color: #E2EBFA;\n",
              "      box-shadow: 0px 1px 2px rgba(60, 64, 67, 0.3), 0px 1px 3px 1px rgba(60, 64, 67, 0.15);\n",
              "      fill: #174EA6;\n",
              "    }\n",
              "\n",
              "    [theme=dark] .colab-df-convert {\n",
              "      background-color: #3B4455;\n",
              "      fill: #D2E3FC;\n",
              "    }\n",
              "\n",
              "    [theme=dark] .colab-df-convert:hover {\n",
              "      background-color: #434B5C;\n",
              "      box-shadow: 0px 1px 3px 1px rgba(0, 0, 0, 0.15);\n",
              "      filter: drop-shadow(0px 1px 2px rgba(0, 0, 0, 0.3));\n",
              "      fill: #FFFFFF;\n",
              "    }\n",
              "  </style>\n",
              "\n",
              "      <script>\n",
              "        const buttonEl =\n",
              "          document.querySelector('#df-45f25fb9-c575-428a-97a0-3524861b057f button.colab-df-convert');\n",
              "        buttonEl.style.display =\n",
              "          google.colab.kernel.accessAllowed ? 'block' : 'none';\n",
              "\n",
              "        async function convertToInteractive(key) {\n",
              "          const element = document.querySelector('#df-45f25fb9-c575-428a-97a0-3524861b057f');\n",
              "          const dataTable =\n",
              "            await google.colab.kernel.invokeFunction('convertToInteractive',\n",
              "                                                     [key], {});\n",
              "          if (!dataTable) return;\n",
              "\n",
              "          const docLinkHtml = 'Like what you see? Visit the ' +\n",
              "            '<a target=\"_blank\" href=https://colab.research.google.com/notebooks/data_table.ipynb>data table notebook</a>'\n",
              "            + ' to learn more about interactive tables.';\n",
              "          element.innerHTML = '';\n",
              "          dataTable['output_type'] = 'display_data';\n",
              "          await google.colab.output.renderOutput(dataTable, element);\n",
              "          const docLink = document.createElement('div');\n",
              "          docLink.innerHTML = docLinkHtml;\n",
              "          element.appendChild(docLink);\n",
              "        }\n",
              "      </script>\n",
              "    </div>\n",
              "  </div>\n",
              "  "
            ]
          },
          "metadata": {},
          "execution_count": 22
        }
      ]
    },
    {
      "cell_type": "code",
      "source": [
        "# 제출용 Model 선별\n",
        "\n",
        "bag_clf = BaggingClassifier(dt_clf,     # base_estimator : DecisionTreeClassifier\n",
        "                            bootstrap=True,     # bootstrap = True : Bagging\n",
        "                            n_jobs=-1)     # n_jobs = - 1 : using all processors\n",
        "pas_clf = BaggingClassifier(dt_clf,\n",
        "                            bootstrap=False,     # bootstrap = False : Pasting\n",
        "                            n_jobs=-1)\n",
        "\n",
        "svm_clf = SVC(probability = True)     # SVM Classifier\n",
        "\n",
        "xgb_clf = XGBClassifier(eval_metric='rmse', learning_rate=0.01, max_depth=3, min_child_weight=1)"
      ],
      "metadata": {
        "id": "4lP9XlxF4Yqb"
      },
      "execution_count": 23,
      "outputs": []
    },
    {
      "cell_type": "code",
      "source": [
        "for model in [bag_clf, pas_clf, svm_clf, xgb_clf]:\n",
        "  model.fit(train_x, train_y)\n",
        "  predict = model.predict(test)\n",
        "  submission['box_off_num'] = predict\n",
        "  submission.to_csv(str(model.__class__.__name__)+'.csv',index = False)   # csv로 변환"
      ],
      "metadata": {
        "id": "KTf6M_u41JBk"
      },
      "execution_count": 24,
      "outputs": []
    },
    {
      "cell_type": "markdown",
      "source": [
        "# 제출 점수(과제부분)"
      ],
      "metadata": {
        "id": "qUSYjotTt-In"
      }
    },
    {
      "cell_type": "markdown",
      "source": [
        "![image.png](data:image/png;base64,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)"
      ],
      "metadata": {
        "id": "lmUu3O5d079-"
      }
    }
  ]
}