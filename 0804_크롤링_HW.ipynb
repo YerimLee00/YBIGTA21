{
 "cells": [
  {
   "cell_type": "code",
   "execution_count": 1,
   "metadata": {},
   "outputs": [],
   "source": [
    "from selenium import webdriver\n",
    "from selenium.webdriver.common.keys import Keys\n",
    "from bs4 import BeautifulSoup\n",
    "from time import sleep\n",
    "import pandas as pd"
   ]
  },
  {
   "cell_type": "code",
   "execution_count": 2,
   "metadata": {},
   "outputs": [],
   "source": [
    "driver = webdriver.Chrome('C:/Users/dpfla/chromedriver.exe')\n",
    "driver.get('https://movie.naver.com/movie/sdb/rank/rmovie.naver')"
   ]
  },
  {
   "cell_type": "markdown",
   "metadata": {},
   "source": [
    "### <한산:용의 출현> 정보 수집"
   ]
  },
  {
   "cell_type": "code",
   "execution_count": 3,
   "metadata": {},
   "outputs": [],
   "source": [
    "driver.find_element_by_xpath('//*[@id=\"old_content\"]/table/tbody/tr[2]/td[2]/div/a').send_keys(Keys.ENTER) "
   ]
  },
  {
   "cell_type": "code",
   "execution_count": 4,
   "metadata": {},
   "outputs": [
    {
     "data": {
      "text/plain": [
       "'한산: 용의 출현'"
      ]
     },
     "execution_count": 4,
     "metadata": {},
     "output_type": "execute_result"
    }
   ],
   "source": [
    "# 제목\n",
    "title = driver.find_element_by_xpath('//*[@id=\"content\"]/div[1]/div[2]/div[1]/h3/a[1]').text\n",
    "title"
   ]
  },
  {
   "cell_type": "code",
   "execution_count": 5,
   "metadata": {},
   "outputs": [
    {
     "data": {
      "text/plain": [
       "'관람객 평점 8.50점'"
      ]
     },
     "execution_count": 5,
     "metadata": {},
     "output_type": "execute_result"
    }
   ],
   "source": [
    "# 관람객 평점\n",
    "score = driver.find_element_by_xpath('//*[@id=\"actualPointPersentBasic\"]/div/span').text\n",
    "score"
   ]
  },
  {
   "cell_type": "code",
   "execution_count": 6,
   "metadata": {},
   "outputs": [
    {
     "data": {
      "text/plain": [
       "'액션, 드라마'"
      ]
     },
     "execution_count": 6,
     "metadata": {},
     "output_type": "execute_result"
    }
   ],
   "source": [
    "# 개요 (1) : 장르\n",
    "genre = driver.find_element_by_xpath('//*[@id=\"content\"]/div[1]/div[2]/div[1]/dl/dd[1]/p/span[1]').text\n",
    "genre"
   ]
  },
  {
   "cell_type": "code",
   "execution_count": 7,
   "metadata": {},
   "outputs": [
    {
     "data": {
      "text/plain": [
       "'한국'"
      ]
     },
     "execution_count": 7,
     "metadata": {},
     "output_type": "execute_result"
    }
   ],
   "source": [
    "# 개요 (2) : 국가\n",
    "nation = driver.find_element_by_xpath('//*[@id=\"content\"]/div[1]/div[2]/div[1]/dl/dd[1]/p/span[2]').text\n",
    "nation"
   ]
  },
  {
   "cell_type": "code",
   "execution_count": 8,
   "metadata": {},
   "outputs": [
    {
     "data": {
      "text/plain": [
       "'129분'"
      ]
     },
     "execution_count": 8,
     "metadata": {},
     "output_type": "execute_result"
    }
   ],
   "source": [
    "# 개요 (3) : 상영시간\n",
    "time = driver.find_element_by_xpath('//*[@id=\"content\"]/div[1]/div[2]/div[1]/dl/dd[1]/p/span[3]').text\n",
    "time"
   ]
  },
  {
   "cell_type": "code",
   "execution_count": 9,
   "metadata": {},
   "outputs": [
    {
     "data": {
      "text/plain": [
       "'2022 .07.27 개봉'"
      ]
     },
     "execution_count": 9,
     "metadata": {},
     "output_type": "execute_result"
    }
   ],
   "source": [
    "# 개요 (4) : 개봉일\n",
    "premiere_day = driver.find_element_by_xpath('//*[@id=\"content\"]/div[1]/div[2]/div[1]/dl/dd[1]/p/span[4]').text\n",
    "premiere_day"
   ]
  },
  {
   "cell_type": "code",
   "execution_count": 10,
   "metadata": {},
   "outputs": [
    {
     "data": {
      "text/plain": [
       "'김한민'"
      ]
     },
     "execution_count": 10,
     "metadata": {},
     "output_type": "execute_result"
    }
   ],
   "source": [
    "# 감독\n",
    "director = driver.find_element_by_xpath('//*[@id=\"content\"]/div[1]/div[2]/div[1]/dl/dd[2]/p/a').text\n",
    "director"
   ]
  },
  {
   "cell_type": "code",
   "execution_count": 11,
   "metadata": {},
   "outputs": [
    {
     "data": {
      "text/plain": [
       "'12세 관람가'"
      ]
     },
     "execution_count": 11,
     "metadata": {},
     "output_type": "execute_result"
    }
   ],
   "source": [
    "# 등급\n",
    "age_rank = driver.find_element_by_xpath('//*[@id=\"content\"]/div[1]/div[2]/div[1]/dl/dd[4]/p/a').text\n",
    "age_rank"
   ]
  },
  {
   "cell_type": "code",
   "execution_count": 12,
   "metadata": {},
   "outputs": [
    {
     "data": {
      "text/plain": [
       "'4,157,701명(08.06 기준)'"
      ]
     },
     "execution_count": 12,
     "metadata": {},
     "output_type": "execute_result"
    }
   ],
   "source": [
    "# 관객 수\n",
    "audience = driver.find_element_by_xpath('//*[@id=\"content\"]/div[1]/div[2]/div[1]/dl/dd[5]/div/p').text\n",
    "audience"
   ]
  },
  {
   "cell_type": "code",
   "execution_count": 13,
   "metadata": {},
   "outputs": [],
   "source": [
    "def Collect_MovieInfo(i):\n",
    "    \n",
    "    data = []   # 영화 정보를 저장할 리스트\n",
    "    driver.find_element_by_xpath('//*[@id=\"old_content\"]/table/tbody/tr['+str(i+1)+']/td[2]/div/a').send_keys(Keys.ENTER)   # 영화 클릭\n",
    "    sleep(1)\n",
    "    \n",
    "    # 정보 수집\n",
    "    # 상영 중인 영화가 아니면 제공되지 않는 정보의 경우, try-except로 예외 처리\n",
    "    title = driver.find_element_by_xpath('//*[@id=\"content\"]/div[1]/div[2]/div[1]/h3/a[1]').text   # 제목\n",
    "    try:\n",
    "        score = driver.find_element_by_xpath('//*[@id=\"actualPointPersentBasic\"]/div/span').text   # 평점\n",
    "    except:\n",
    "        score = ''\n",
    "    genre = driver.find_element_by_xpath('//*[@id=\"content\"]/div[1]/div[2]/div[1]/dl/dd[1]/p/span[1]').text   # 장르\n",
    "    nation = driver.find_element_by_xpath('//*[@id=\"content\"]/div[1]/div[2]/div[1]/dl/dd[1]/p/span[2]').text   # 국가\n",
    "    try:\n",
    "        time = driver.find_element_by_xpath('//*[@id=\"content\"]/div[1]/div[2]/div[1]/dl/dd[1]/p/span[3]').text   # 상영시간\n",
    "    except:\n",
    "        time = ''\n",
    "    try:\n",
    "        premiere_day = driver.find_element_by_xpath('//*[@id=\"content\"]/div[1]/div[2]/div[1]/dl/dd[1]/p/span[4]').text   # 개봉일\n",
    "    except:\n",
    "        premiere_day = ''\n",
    "    director = driver.find_element_by_xpath('//*[@id=\"content\"]/div[1]/div[2]/div[1]/dl/dd[2]/p/a').text   # 감독\n",
    "    try:\n",
    "        age_rank = driver.find_element_by_xpath('//*[@id=\"content\"]/div[1]/div[2]/div[1]/dl/dd[4]/p/a').text   # 등급\n",
    "    except:\n",
    "        age_rank = ''\n",
    "    try:\n",
    "        audience = driver.find_element_by_xpath('//*[@id=\"content\"]/div[1]/div[2]/div[1]/dl/dd[5]/div/p').text   # 관객 수\n",
    "    except:\n",
    "        audience = ''\n",
    "    \n",
    "    # 정보 저장\n",
    "    data.append(title)\n",
    "    data.append(score)\n",
    "    data.append(genre)\n",
    "    data.append(nation)\n",
    "    data.append(time)\n",
    "    data.append(premiere_day)\n",
    "    data.append(director)\n",
    "    data.append(age_rank)\n",
    "    data.append(audience)\n",
    "    \n",
    "    return data"
   ]
  },
  {
   "cell_type": "code",
   "execution_count": 14,
   "metadata": {},
   "outputs": [
    {
     "name": "stdout",
     "output_type": "stream",
     "text": [
      "['한산: 용의 출현', '관람객 평점 8.50점', '액션, 드라마', '한국', '129분', '2022 .07.27 개봉', '김한민', '12세 관람가', '4,157,701명(08.06 기준)']\n",
      "['비상선언', '관람객 평점 6.72점', '드라마', '한국', '140분', '2022 .08.03 개봉', '한재림', '12세 관람가', '1,119,560명(08.06 기준)']\n",
      "['외계+인 1부', '관람객 평점 6.88점', '액션, 판타지, SF', '한국', '142분', '2022 .07.20 개봉', '최동훈', '12세 관람가', '1,485,252명(08.06 기준)']\n",
      "['탑건: 매버릭', '관람객 평점 9.59점', '액션', '미국', '130분', '2022 .06.22 개봉', '조셉 코신스키', '12세 관람가', '7,380,194명(08.06 기준)']\n",
      "['헤어질 결심', '관람객 평점 8.92점', '멜로/로맨스, 드라마, 서스펜스', '한국', '138분', '2022 .06.29 개봉', '박찬욱', '15세 관람가', '1,759,850명(08.06 기준)']\n",
      "['헌트', '', '액션, 드라마', '한국', '125분', '2022 .08.10 개봉', '이정재', '15세 관람가', '']\n",
      "['미니언즈2', '관람객 평점 7.86점', '애니메이션, 모험, 코미디', '미국', '87분', '2022 .07.20 개봉', '카일 발다', '전체 관람가', '1,906,021명(08.06 기준)']\n",
      "['토르: 러브 앤 썬더', '관람객 평점 6.73점', '액션, 모험, 판타지', '미국', '119분', '2022 .07.06 개봉', '타이카 와이티티', '12세 관람가', '2,714,198명(08.06 기준)']\n",
      "['카터', '', '액션, 모험', '한국', '', '', '정병길', '', '']\n",
      "['더 킬러: 죽어도 되는 아이', '관람객 평점 8.64점', '액션', '한국', '95분', '2022 .07.13 개봉', '최재훈', '청소년 관람불가', '']\n"
     ]
    }
   ],
   "source": [
    "# 1위~10위 영화 정보 데이터프레임으로 저장 (1)\n",
    "\n",
    "movie_info = []\n",
    "\n",
    "for i in range(1, 11):\n",
    "    driver.get('https://movie.naver.com/movie/sdb/rank/rmovie.naver')\n",
    "    data = Collect_MovieInfo(i)\n",
    "    print(data)\n",
    "    movie_info.append(data)"
   ]
  },
  {
   "cell_type": "code",
   "execution_count": 15,
   "metadata": {},
   "outputs": [
    {
     "data": {
      "text/html": [
       "<div>\n",
       "<style scoped>\n",
       "    .dataframe tbody tr th:only-of-type {\n",
       "        vertical-align: middle;\n",
       "    }\n",
       "\n",
       "    .dataframe tbody tr th {\n",
       "        vertical-align: top;\n",
       "    }\n",
       "\n",
       "    .dataframe thead th {\n",
       "        text-align: right;\n",
       "    }\n",
       "</style>\n",
       "<table border=\"1\" class=\"dataframe\">\n",
       "  <thead>\n",
       "    <tr style=\"text-align: right;\">\n",
       "      <th></th>\n",
       "      <th>제목</th>\n",
       "      <th>관람객 평점</th>\n",
       "      <th>장르</th>\n",
       "      <th>국가</th>\n",
       "      <th>상영시간</th>\n",
       "      <th>개봉일</th>\n",
       "      <th>감독</th>\n",
       "      <th>등급</th>\n",
       "      <th>흥행 정보</th>\n",
       "    </tr>\n",
       "  </thead>\n",
       "  <tbody>\n",
       "    <tr>\n",
       "      <th>0</th>\n",
       "      <td>한산: 용의 출현</td>\n",
       "      <td>관람객 평점 8.50점</td>\n",
       "      <td>액션, 드라마</td>\n",
       "      <td>한국</td>\n",
       "      <td>129분</td>\n",
       "      <td>2022 .07.27 개봉</td>\n",
       "      <td>김한민</td>\n",
       "      <td>12세 관람가</td>\n",
       "      <td>4,157,701명(08.06 기준)</td>\n",
       "    </tr>\n",
       "    <tr>\n",
       "      <th>1</th>\n",
       "      <td>비상선언</td>\n",
       "      <td>관람객 평점 6.72점</td>\n",
       "      <td>드라마</td>\n",
       "      <td>한국</td>\n",
       "      <td>140분</td>\n",
       "      <td>2022 .08.03 개봉</td>\n",
       "      <td>한재림</td>\n",
       "      <td>12세 관람가</td>\n",
       "      <td>1,119,560명(08.06 기준)</td>\n",
       "    </tr>\n",
       "    <tr>\n",
       "      <th>2</th>\n",
       "      <td>외계+인 1부</td>\n",
       "      <td>관람객 평점 6.88점</td>\n",
       "      <td>액션, 판타지, SF</td>\n",
       "      <td>한국</td>\n",
       "      <td>142분</td>\n",
       "      <td>2022 .07.20 개봉</td>\n",
       "      <td>최동훈</td>\n",
       "      <td>12세 관람가</td>\n",
       "      <td>1,485,252명(08.06 기준)</td>\n",
       "    </tr>\n",
       "    <tr>\n",
       "      <th>3</th>\n",
       "      <td>탑건: 매버릭</td>\n",
       "      <td>관람객 평점 9.59점</td>\n",
       "      <td>액션</td>\n",
       "      <td>미국</td>\n",
       "      <td>130분</td>\n",
       "      <td>2022 .06.22 개봉</td>\n",
       "      <td>조셉 코신스키</td>\n",
       "      <td>12세 관람가</td>\n",
       "      <td>7,380,194명(08.06 기준)</td>\n",
       "    </tr>\n",
       "    <tr>\n",
       "      <th>4</th>\n",
       "      <td>헤어질 결심</td>\n",
       "      <td>관람객 평점 8.92점</td>\n",
       "      <td>멜로/로맨스, 드라마, 서스펜스</td>\n",
       "      <td>한국</td>\n",
       "      <td>138분</td>\n",
       "      <td>2022 .06.29 개봉</td>\n",
       "      <td>박찬욱</td>\n",
       "      <td>15세 관람가</td>\n",
       "      <td>1,759,850명(08.06 기준)</td>\n",
       "    </tr>\n",
       "    <tr>\n",
       "      <th>5</th>\n",
       "      <td>헌트</td>\n",
       "      <td></td>\n",
       "      <td>액션, 드라마</td>\n",
       "      <td>한국</td>\n",
       "      <td>125분</td>\n",
       "      <td>2022 .08.10 개봉</td>\n",
       "      <td>이정재</td>\n",
       "      <td>15세 관람가</td>\n",
       "      <td></td>\n",
       "    </tr>\n",
       "    <tr>\n",
       "      <th>6</th>\n",
       "      <td>미니언즈2</td>\n",
       "      <td>관람객 평점 7.86점</td>\n",
       "      <td>애니메이션, 모험, 코미디</td>\n",
       "      <td>미국</td>\n",
       "      <td>87분</td>\n",
       "      <td>2022 .07.20 개봉</td>\n",
       "      <td>카일 발다</td>\n",
       "      <td>전체 관람가</td>\n",
       "      <td>1,906,021명(08.06 기준)</td>\n",
       "    </tr>\n",
       "    <tr>\n",
       "      <th>7</th>\n",
       "      <td>토르: 러브 앤 썬더</td>\n",
       "      <td>관람객 평점 6.73점</td>\n",
       "      <td>액션, 모험, 판타지</td>\n",
       "      <td>미국</td>\n",
       "      <td>119분</td>\n",
       "      <td>2022 .07.06 개봉</td>\n",
       "      <td>타이카 와이티티</td>\n",
       "      <td>12세 관람가</td>\n",
       "      <td>2,714,198명(08.06 기준)</td>\n",
       "    </tr>\n",
       "    <tr>\n",
       "      <th>8</th>\n",
       "      <td>카터</td>\n",
       "      <td></td>\n",
       "      <td>액션, 모험</td>\n",
       "      <td>한국</td>\n",
       "      <td></td>\n",
       "      <td></td>\n",
       "      <td>정병길</td>\n",
       "      <td></td>\n",
       "      <td></td>\n",
       "    </tr>\n",
       "    <tr>\n",
       "      <th>9</th>\n",
       "      <td>더 킬러: 죽어도 되는 아이</td>\n",
       "      <td>관람객 평점 8.64점</td>\n",
       "      <td>액션</td>\n",
       "      <td>한국</td>\n",
       "      <td>95분</td>\n",
       "      <td>2022 .07.13 개봉</td>\n",
       "      <td>최재훈</td>\n",
       "      <td>청소년 관람불가</td>\n",
       "      <td></td>\n",
       "    </tr>\n",
       "  </tbody>\n",
       "</table>\n",
       "</div>"
      ],
      "text/plain": [
       "                제목        관람객 평점                 장르  국가  상영시간             개봉일  \\\n",
       "0        한산: 용의 출현  관람객 평점 8.50점            액션, 드라마  한국  129분  2022 .07.27 개봉   \n",
       "1             비상선언  관람객 평점 6.72점                드라마  한국  140분  2022 .08.03 개봉   \n",
       "2          외계+인 1부  관람객 평점 6.88점        액션, 판타지, SF  한국  142분  2022 .07.20 개봉   \n",
       "3          탑건: 매버릭  관람객 평점 9.59점                 액션  미국  130분  2022 .06.22 개봉   \n",
       "4           헤어질 결심  관람객 평점 8.92점  멜로/로맨스, 드라마, 서스펜스  한국  138분  2022 .06.29 개봉   \n",
       "5               헌트                          액션, 드라마  한국  125분  2022 .08.10 개봉   \n",
       "6            미니언즈2  관람객 평점 7.86점     애니메이션, 모험, 코미디  미국   87분  2022 .07.20 개봉   \n",
       "7      토르: 러브 앤 썬더  관람객 평점 6.73점        액션, 모험, 판타지  미국  119분  2022 .07.06 개봉   \n",
       "8               카터                           액션, 모험  한국                         \n",
       "9  더 킬러: 죽어도 되는 아이  관람객 평점 8.64점                 액션  한국   95분  2022 .07.13 개봉   \n",
       "\n",
       "         감독        등급                 흥행 정보  \n",
       "0       김한민   12세 관람가  4,157,701명(08.06 기준)  \n",
       "1       한재림   12세 관람가  1,119,560명(08.06 기준)  \n",
       "2       최동훈   12세 관람가  1,485,252명(08.06 기준)  \n",
       "3   조셉 코신스키   12세 관람가  7,380,194명(08.06 기준)  \n",
       "4       박찬욱   15세 관람가  1,759,850명(08.06 기준)  \n",
       "5       이정재   15세 관람가                        \n",
       "6     카일 발다    전체 관람가  1,906,021명(08.06 기준)  \n",
       "7  타이카 와이티티   12세 관람가  2,714,198명(08.06 기준)  \n",
       "8       정병길                                  \n",
       "9       최재훈  청소년 관람불가                        "
      ]
     },
     "execution_count": 15,
     "metadata": {},
     "output_type": "execute_result"
    }
   ],
   "source": [
    "# 1위~10위 영화 정보 데이터프레임으로 저장 (2)\n",
    "\n",
    "movie_info = pd.DataFrame(movie_info, columns=['제목', '관람객 평점', '장르', '국가', '상영시간', '개봉일', '감독', '등급', '흥행 정보'])\n",
    "movie_info"
   ]
  },
  {
   "cell_type": "code",
   "execution_count": 16,
   "metadata": {},
   "outputs": [],
   "source": [
    "# csv 파일로 저장\n",
    "\n",
    "movie_info.to_csv('0804_크롤링_HW.csv')"
   ]
  }
 ],
 "metadata": {
  "kernelspec": {
   "display_name": "Python 3",
   "language": "python",
   "name": "python3"
  },
  "language_info": {
   "codemirror_mode": {
    "name": "ipython",
    "version": 3
   },
   "file_extension": ".py",
   "mimetype": "text/x-python",
   "name": "python",
   "nbconvert_exporter": "python",
   "pygments_lexer": "ipython3",
   "version": "3.8.5"
  },
  "toc": {
   "base_numbering": 1,
   "nav_menu": {},
   "number_sections": true,
   "sideBar": true,
   "skip_h1_title": false,
   "title_cell": "Table of Contents",
   "title_sidebar": "Contents",
   "toc_cell": false,
   "toc_position": {},
   "toc_section_display": true,
   "toc_window_display": false
  }
 },
 "nbformat": 4,
 "nbformat_minor": 5
}
